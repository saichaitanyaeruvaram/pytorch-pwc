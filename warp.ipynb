{
 "cells": [
  {
   "cell_type": "code",
   "execution_count": 5,
   "metadata": {},
   "outputs": [],
   "source": [
    "import cv2\n",
    "import numpy as np\n",
    "from imageio import imread\n",
    "from PIL import Image\n",
    "import os"
   ]
  },
  {
   "cell_type": "code",
   "execution_count": 6,
   "metadata": {},
   "outputs": [],
   "source": [
    "def readFlow(path):\n",
    "        assert type(path) is str, \"Input [{p}] is not a string\".format(p=path)\n",
    "        assert os.path.isfile(path), \"Path [{p}] does not exist\".format(p=path)\n",
    "        assert path.split('.')[-1] == 'flo', \"File extension [flo] required, [{f}] given\".format(f=path.split('.')[-1])\n",
    "\n",
    "        flo = open(path, 'rb')\n",
    "\n",
    "        tag = np.fromfile(flo, np.float32, count=1)[0]\n",
    "        assert 202021.25 == tag, \"Wrong Tag [{t}]\".format(t=tag)\n",
    "\n",
    "        width = np.fromfile(flo, np.int32, count=1)[0]\n",
    "        assert width > 0 and width < 100000, \"Illegal width [{w}]\".format(w=width)\n",
    "\n",
    "        height = np.fromfile(flo, np.int32, count=1)[0]\n",
    "        assert width > 0 and width < 100000, \"Illegal height [{h}]\".format(h=height)\n",
    "\n",
    "        nbands = 2\n",
    "        tmp = np.fromfile(flo, np.float32, count= nbands * width * height)\n",
    "        flow = np.resize(tmp, (int(height), int(width), int(nbands)))\n",
    "        flo.close()\n",
    "        \n",
    "        return flow\n",
    "\n",
    "def draw_hsv(flow):\n",
    "    h, w = flow.shape[:2]\n",
    "    fx, fy = flow[:,:,0], flow[:,:,1]\n",
    "    ang = np.arctan2(fy, fx) + np.pi\n",
    "    v = np.sqrt(fx*fx+fy*fy)\n",
    "    hsv = np.zeros((h, w, 3), np.uint8)\n",
    "    hsv[...,0] = ang*(180/np.pi/2)\n",
    "    hsv[...,1] = 255\n",
    "    hsv[...,2] = cv2.normalize(v, None, 0, 255, cv2.NORM_MINMAX)\n",
    "    bgr = cv2.cvtColor(hsv, cv2.COLOR_HSV2BGR)\n",
    "    return bgr\n",
    "\n",
    "def warp_flow(img, flow):\n",
    "    h, w = flow.shape[:2]\n",
    "    flow = -flow\n",
    "    flow[:,:,0] += np.arange(w)\n",
    "    flow[:,:,1] += np.arange(h)[:,np.newaxis]\n",
    "    res = cv2.remap(img, flow[:,:,0], flow[:,:,1], cv2.INTER_LINEAR)\n",
    "    #res = cv2.remap(img, flow, None, cv2.INTER_LINEAR)\n",
    "    return res\n",
    "\n",
    "\n"
   ]
  },
  {
   "cell_type": "code",
   "execution_count": null,
   "metadata": {},
   "outputs": [],
   "source": [
    "im1 = np.asarray(cv2.imread(\"i7.png\"))\n",
    "flow = readFlow(\"i78.flo\")\n",
    "\n",
    "im2w = warp_flow(im1, flow)\n",
    "\n",
    "cv2.imwrite(\"i78_pwc.jpg\", im2w)"
   ]
  },
  {
   "cell_type": "code",
   "execution_count": 9,
   "metadata": {},
   "outputs": [
    {
     "name": "stdout",
     "output_type": "stream",
     "text": [
      "(436, 1024, 2)\n"
     ]
    }
   ],
   "source": [
    "flow = readFlow(\"./images/out21.flo\")\n",
    "print(flow.shape)\n"
   ]
  },
  {
   "cell_type": "code",
   "execution_count": 7,
   "metadata": {},
   "outputs": [
    {
     "data": {
      "text/plain": [
       "True"
      ]
     },
     "execution_count": 7,
     "metadata": {},
     "output_type": "execute_result"
    }
   ],
   "source": [
    "im1 = np.asarray(cv2.imread(\"./images/second.png\"))\n",
    "flow = readFlow(\"./images/out21.flo\")\n",
    "\n",
    "im2w = warp_flow(im1, flow)\n",
    "\n",
    "cv2.imwrite(\"./images/flow_pwc2.png\", im2w)"
   ]
  },
  {
   "cell_type": "code",
   "execution_count": null,
   "metadata": {},
   "outputs": [],
   "source": [
    "im1 = np.asarray(cv2.imread(\"i7.png\", 0))\n",
    "im2 = np.asarray(cv2.imread(\"i8.png\",0))\n",
    "flow = cv2.calcOpticalFlowFarneback(im1,im2, None, 0.5, 3, 15, 3, 5, 1.2, 0)\n",
    "\n",
    "im2ref = np.asarray(cv2.imread(\"i7.png\"))\n",
    "im2w = warp_flow(im2ref, flow)\n",
    "\n",
    "cv2.imwrite(\"i78wW_1.jpg\", im2w)"
   ]
  },
  {
   "cell_type": "code",
   "execution_count": null,
   "metadata": {},
   "outputs": [],
   "source": [
    "tvl1 = cv2.optflow.DualTVL1OpticalFlow_create()\n",
    "im1 = np.asarray(cv2.imread(\"i7.png\", 0))\n",
    "im2 = np.asarray(cv2.imread(\"i8.png\",0))\n",
    "flow = tvl1.calc(im1,im2, None)\n",
    "\n",
    "im2ref = np.asarray(cv2.imread(\"i7.png\"))\n",
    "im2w = warp_flow(im2ref, flow)\n",
    "\n",
    "cv2.imwrite(\"i78wW_tvl1.jpg\", im2w)"
   ]
  },
  {
   "cell_type": "code",
   "execution_count": 17,
   "metadata": {},
   "outputs": [
    {
     "data": {
      "text/plain": [
       "True"
      ]
     },
     "execution_count": 17,
     "metadata": {},
     "output_type": "execute_result"
    }
   ],
   "source": [
    "tvl1 = cv2.optflow.DualTVL1OpticalFlow_create()\n",
    "im1 = np.asarray(cv2.imread(\"./images/first.png\", 0))\n",
    "im2 = np.asarray(cv2.imread(\"./images/second.png\",0))\n",
    "flow = tvl1.calc(im1,im2, None)\n",
    "\n",
    "im2ref = np.asarray(cv2.imread(\"./images/first.png\"))\n",
    "im2w = warp_flow(im2ref, flow)\n",
    "\n",
    "cv2.imwrite(\"./images/flow_tvl1.jpg\", im2w)"
   ]
  },
  {
   "cell_type": "code",
   "execution_count": null,
   "metadata": {},
   "outputs": [],
   "source": []
  }
 ],
 "metadata": {
  "kernelspec": {
   "display_name": "Python 3",
   "language": "python",
   "name": "python3"
  },
  "language_info": {
   "codemirror_mode": {
    "name": "ipython",
    "version": 3
   },
   "file_extension": ".py",
   "mimetype": "text/x-python",
   "name": "python",
   "nbconvert_exporter": "python",
   "pygments_lexer": "ipython3",
   "version": "3.5.3"
  }
 },
 "nbformat": 4,
 "nbformat_minor": 2
}
